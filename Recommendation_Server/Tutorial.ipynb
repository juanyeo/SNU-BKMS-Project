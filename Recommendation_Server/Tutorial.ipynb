{
 "cells": [
  {
   "attachments": {},
   "cell_type": "markdown",
   "metadata": {},
   "source": [
    "\n",
    "#### Check requirements below before start:\n",
    "requirements: \n",
    "\n",
    "    pip install pandas\n",
    "\n",
    "    pip install torch\n",
    "    \n",
    "    pip install -U sentence_transformers\n",
    "    \n",
    "    pip install googletrans==4.0.0-rc1\n",
    "    \n",
    "## And Just run 'ALL of cells'!\n"
   ]
  },
  {
   "attachments": {},
   "cell_type": "markdown",
   "metadata": {},
   "source": [
    "### 1. Load model"
   ]
  },
  {
   "cell_type": "code",
   "execution_count": 1,
   "metadata": {},
   "outputs": [
    {
     "name": "stderr",
     "output_type": "stream",
     "text": [
      "c:\\Users\\mye39\\anaconda3\\envs\\bkms_flask\\lib\\site-packages\\tqdm\\auto.py:21: TqdmWarning: IProgress not found. Please update jupyter and ipywidgets. See https://ipywidgets.readthedocs.io/en/stable/user_install.html\n",
      "  from .autonotebook import tqdm as notebook_tqdm\n"
     ]
    },
    {
     "name": "stdout",
     "output_type": "stream",
     "text": [
      "-----------\n",
      "shape:(1, 384), type: <class 'numpy.ndarray'>\n",
      "shape:torch.Size([1, 384]), type: <class 'torch.Tensor'>\n"
     ]
    }
   ],
   "source": [
    "import numpy as np\n",
    "import torch\n",
    "\n",
    "model = torch.load('model.pth') # 이미 생성된(저장된) 모델을 불러옴.\n",
    "model.eval() ## 이걸 해야 evaluation mode로 진입함. 안 했을 경우 dropout처럼 traning단계에서 확률적으로 변하는 요소들이 반영되어 일관적인 아웃풋이 나오지 않음.\n",
    "\n",
    "# from sentence_transformers import SentenceTransformer\n",
    "# model = SentenceTransformer('sentence-transformers/stsb-bert-large')\n",
    "# torch.save(model, 'model_large.pth')\n",
    "\n",
    "# Sentences we want to encode. Example:\n",
    "sentence = ['This framework generates embeddings for each input sentence']\n",
    "\n",
    "print(\"-----------\")\n",
    "# Sentences are encoded by calling model.encode()\n",
    "embedding = model.encode(sentence)\n",
    "print(f\"shape:{embedding.shape}, type: {type(embedding)}\")\n",
    "\n",
    "embedding = model.encode(sentence, convert_to_tensor=True)\n",
    "print(f\"shape:{embedding.shape}, type: {type(embedding)}\")"
   ]
  },
  {
   "cell_type": "code",
   "execution_count": 2,
   "metadata": {},
   "outputs": [
    {
     "name": "stdout",
     "output_type": "stream",
     "text": [
      "similaliry between 1 and 2: 0.2828502\n",
      "similaliry between 1 and 3: 0.18575291\n",
      "similaliry between 2 and 3: 0.6597288\n"
     ]
    }
   ],
   "source": [
    "ExampleText1 = 'hello. Im a undergraduate student of computer science. and i have a question for Django framework'\n",
    "ExampleText2 = 'I am trying to follow this tutorial using pip to install a python package locally. Per the tutorial in the bacnet-restful directory when I run pip install wheel I get this error:'\n",
    "ExampleText3 = 'pip is a replacement for easy_install. But should I install pip using easy_install on Windows? Is there a better way?'\n",
    "\n",
    "embedded_vector1 = model.encode([ExampleText1])[0] # 지금은 numpy로 불러오게 되는데, 옵션을 바꾸면 torch로 불러올 수도 있음.\n",
    "embedded_vector2 = model.encode([ExampleText2])[0]\n",
    "embedded_vector3 = model.encode([ExampleText3])[0]\n",
    "\n",
    "# print(torch.norm(embedded_vector1), torch.norm(embedded_vector2), torch.norm(embedded_vector3))\n",
    "def cos_theta(vec1, vec2):\n",
    "    return np.dot(vec1, vec2) / (np.linalg.norm(vec1) * np.linalg.norm(vec2))\n",
    "print(\"similaliry between 1 and 2:\",cos_theta(embedded_vector1, embedded_vector2))\n",
    "print(\"similaliry between 1 and 3:\",cos_theta(embedded_vector1, embedded_vector3))\n",
    "print(\"similaliry between 2 and 3:\",cos_theta(embedded_vector2, embedded_vector3))"
   ]
  },
  {
   "attachments": {},
   "cell_type": "markdown",
   "metadata": {},
   "source": [
    "### 2. Load StackOverflow Data & calculate model embeddings"
   ]
  },
  {
   "cell_type": "code",
   "execution_count": 3,
   "metadata": {},
   "outputs": [
    {
     "name": "stdout",
     "output_type": "stream",
     "text": [
      "(500, 5)\n"
     ]
    },
    {
     "data": {
      "text/html": [
       "<div>\n",
       "<style scoped>\n",
       "    .dataframe tbody tr th:only-of-type {\n",
       "        vertical-align: middle;\n",
       "    }\n",
       "\n",
       "    .dataframe tbody tr th {\n",
       "        vertical-align: top;\n",
       "    }\n",
       "\n",
       "    .dataframe thead th {\n",
       "        text-align: right;\n",
       "    }\n",
       "</style>\n",
       "<table border=\"1\" class=\"dataframe\">\n",
       "  <thead>\n",
       "    <tr style=\"text-align: right;\">\n",
       "      <th></th>\n",
       "      <th>Unnamed: 0</th>\n",
       "      <th>id</th>\n",
       "      <th>title</th>\n",
       "      <th>body</th>\n",
       "      <th>tags</th>\n",
       "    </tr>\n",
       "  </thead>\n",
       "  <tbody>\n",
       "    <tr>\n",
       "      <th>0</th>\n",
       "      <td>0</td>\n",
       "      <td>70257495</td>\n",
       "      <td>PostgreSQL: How can I check if table was creat...</td>\n",
       "      <td>I want to upgrade PostgreSQL database to new v...</td>\n",
       "      <td>sql|postgresql</td>\n",
       "    </tr>\n",
       "    <tr>\n",
       "      <th>1</th>\n",
       "      <td>1</td>\n",
       "      <td>70081753</td>\n",
       "      <td>Check if value is not null and not empty in a ...</td>\n",
       "      <td>I have created a function in Postgresql and sp...</td>\n",
       "      <td>postgresql</td>\n",
       "    </tr>\n",
       "    <tr>\n",
       "      <th>2</th>\n",
       "      <td>2</td>\n",
       "      <td>70028788</td>\n",
       "      <td>Host for postgresql db hosted on GCloud</td>\n",
       "      <td>Given a postgresql database instance hosted in...</td>\n",
       "      <td>postgresql</td>\n",
       "    </tr>\n",
       "    <tr>\n",
       "      <th>3</th>\n",
       "      <td>3</td>\n",
       "      <td>70027637</td>\n",
       "      <td>Get rows from A table with multiple records wh...</td>\n",
       "      <td>I have 2 tables in mariadb\\nTable 1\\nid,did,st...</td>\n",
       "      <td>mysql</td>\n",
       "    </tr>\n",
       "    <tr>\n",
       "      <th>4</th>\n",
       "      <td>4</td>\n",
       "      <td>70113318</td>\n",
       "      <td>Multiple MySQL authentification options</td>\n",
       "      <td>I, I was wondering if it was possible to use m...</td>\n",
       "      <td>mysql</td>\n",
       "    </tr>\n",
       "  </tbody>\n",
       "</table>\n",
       "</div>"
      ],
      "text/plain": [
       "   Unnamed: 0        id                                              title   \n",
       "0           0  70257495  PostgreSQL: How can I check if table was creat...  \\\n",
       "1           1  70081753  Check if value is not null and not empty in a ...   \n",
       "2           2  70028788            Host for postgresql db hosted on GCloud   \n",
       "3           3  70027637  Get rows from A table with multiple records wh...   \n",
       "4           4  70113318            Multiple MySQL authentification options   \n",
       "\n",
       "                                                body            tags  \n",
       "0  I want to upgrade PostgreSQL database to new v...  sql|postgresql  \n",
       "1  I have created a function in Postgresql and sp...      postgresql  \n",
       "2  Given a postgresql database instance hosted in...      postgresql  \n",
       "3  I have 2 tables in mariadb\\nTable 1\\nid,did,st...           mysql  \n",
       "4  I, I was wondering if it was possible to use m...           mysql  "
      ]
     },
     "execution_count": 3,
     "metadata": {},
     "output_type": "execute_result"
    }
   ],
   "source": [
    "# SOF_dbms.csv is a preprocessed stackoverflow csv file. The preprocess is in 'post_analysis.ipynb'\n",
    "\n",
    "import pandas as pd\n",
    "df = pd.read_csv('SOF_dbms.csv')\n",
    "print(df.shape)\n",
    "df.head()"
   ]
  },
  {
   "cell_type": "code",
   "execution_count": 4,
   "metadata": {},
   "outputs": [
    {
     "name": "stdout",
     "output_type": "stream",
     "text": [
      "SO_title.pickle already exist. Loaded fileLoc\n",
      "SO_body.pickle already exist. Loaded fileLoc\n",
      "title_shape: torch.Size([500, 384])\n",
      "body_shape: torch.Size([500, 384])\n"
     ]
    }
   ],
   "source": [
    "import pickle, os\n",
    "from utils import gen_embedding\n",
    "title = [text for text in df['title']]\n",
    "body = [text for text in df['body']]\n",
    "title_embedding = gen_embedding(title, 'SO_title.pickle')\n",
    "body_embedding = gen_embedding(body, 'SO_body.pickle')\n",
    "\n",
    "print(\"title_shape:\", title_embedding.shape)\n",
    "print(\"body_shape:\", body_embedding.shape)"
   ]
  },
  {
   "attachments": {},
   "cell_type": "markdown",
   "metadata": {},
   "source": [
    "### 3. Generate Hash function, and calculate the hash value of embeddings"
   ]
  },
  {
   "cell_type": "code",
   "execution_count": 5,
   "metadata": {},
   "outputs": [
    {
     "name": "stdout",
     "output_type": "stream",
     "text": [
      "SO_title_dataTable.pickle already exist. Loaded SO_title_dataTable.pickle\n",
      "SO_body_dataTable.pickle already exist. Loaded SO_body_dataTable.pickle\n"
     ]
    }
   ],
   "source": [
    "import yaml, pickle\n",
    "from mips_ALSH import Mips, HashFt, Hash_Table\n",
    "from utils import gen_DataTable\n",
    "with open('config.yaml', 'r') as f:\n",
    "    params = yaml.load(f, Loader = yaml.FullLoader)\n",
    "\n",
    "hashft_class = HashFt(params)\n",
    "hashft = hashft_class.hash_functions\n",
    "\n",
    "title_Data = gen_DataTable(title_embedding, 'SO_title_dataTable.pickle', hashft)\n",
    "body_Data = gen_DataTable(body_embedding, 'SO_body_dataTable.pickle', hashft)\n",
    "\n",
    "\n",
    "search_engine = Mips(hashft, params)\n"
   ]
  },
  {
   "cell_type": "code",
   "execution_count": 6,
   "metadata": {},
   "outputs": [
    {
     "name": "stdout",
     "output_type": "stream",
     "text": [
      "\n",
      "------------------------\n",
      "ranking index:  tensor([329, 450,  82, 147,  63, 123,  31, 141, 447,  26, 284, 330, 430, 272,\n",
      "        270, 230, 177, 274,  40, 487,  79, 378, 387, 370,  90, 441, 379, 325,\n",
      "        472, 349, 445, 309, 275, 443,  87, 297, 236, 398, 227, 103, 102,  38,\n",
      "        420, 463, 421, 126, 442, 428,  98, 204])\n",
      "\n",
      "tensor(2179)  :  70262470 : All unique combinations of a column based on another one\n",
      "\n",
      "tensor(2173)  :  70146079 : Count removes all but one value, instead of showing one of each value, and distinct replaces names with '0'\n",
      "\n",
      "tensor(2172)  :  70063931 : calculate date in 1 min interval postgres\n",
      "\n",
      "tensor(2171)  :  70124780 : Get black friday dates in Postgres\n",
      "\n",
      "tensor(2171)  :  70366959 : Use many call apoc.do.when\n",
      "\n",
      "tensor(2168)  :  70337480 : Need MYSQL uquery solution\n",
      "\n",
      "tensor(2167)  :  70253133 : Convert oracle pivot to Postgres query\n",
      "\n",
      "tensor(2165)  :  70313183 : Join with aggregate function on empty resultset\n",
      "\n",
      "tensor(2165)  :  70190330 : In Postgres 10 how to roll multiple matching rows into a single row\n",
      "\n",
      "tensor(2164)  :  70135508 : Strip empty lines with mysql and regex\n",
      "\n",
      "tensor(2163)  :  70161844 : transpose table on PostgreSQL leads to invalid source data SQL statement error\n",
      "\n",
      "tensor(2163)  :  70252748 : replace null values in subsequent rows from previous row\n",
      "\n",
      "tensor(2163)  :  70344348 : Count a row's appearance in foreign keys on another table as a generated column?\n",
      "\n",
      "tensor(2163)  :  70196519 : Postgres override system function\n",
      "\n",
      "tensor(2163)  :  70190284 : postgres - how to show most recent date when joining two tables?\n",
      "\n",
      "tensor(2163)  :  70094882 : PostgreSQL array_agg returns null if first param is null\n",
      "\n",
      "tensor(2161)  :  70342055 : How to share a postgreSQL database?\n",
      "\n",
      "tensor(2161)  :  70065092 : agregate sales totals per years per customer in one transaction\n",
      "\n",
      "tensor(2161)  :  70076332 : Is there a way to improve BigQuery's performance over PostgreSQL\n",
      "\n",
      "tensor(2161)  :  70091842 : MySQL FORCE INDEX got unexpected time cost\n",
      "\n",
      "tensor(2161)  :  70046370 : How to split the text in Big Query\n",
      "\n",
      "tensor(2161)  :  70332770 : How to truncate seconds from timestamp in postgres?\n",
      "\n",
      "tensor(2161)  :  70320804 : Executing an insert query on successful deletion in postgres\n",
      "\n",
      "tensor(2161)  :  70254173 : How to append the current month and year to \"Helpdesk Service\" as dynamic column alias?\n",
      "\n",
      "tensor(2160)  :  70316027 : Aggregate window function and outer join\n",
      "\n",
      "tensor(2160)  :  70073812 : Group cases when group exists partially\n",
      "\n",
      "tensor(2160)  :  70233870 : custom field field in postgreSQL\n",
      "\n",
      "tensor(2160)  :  70341189 : select columns sql\n",
      "\n",
      "tensor(2160)  :  70109547 : Can I create a procedure in MySQL where I will just pass any table name from already created tables and get the records displayed using call\n",
      "\n",
      "tensor(2160)  :  70058273 : Sales amounts of the top n selling vendors by month with other fields in bigquery\n",
      "\n",
      "tensor(2160)  :  70375593 : PostgreSQL: how to simulate long running query\n",
      "\n",
      "tensor(2160)  :  70228018 : SQL model follows to retrieve previous notifications\n",
      "\n",
      "tensor(2160)  :  70168926 : is there any way in mysql to rollup and merge columns at the same time?\n",
      "\n",
      "tensor(2160)  :  70111525 : SQL aggregate data based on a single column\n",
      "\n",
      "tensor(2160)  :  70063912 : BigQuery - default expiration time\n",
      "\n",
      "tensor(2159)  :  70035972 : MySQL, Formatting additional entries into columns\n",
      "\n",
      "tensor(2159)  :  70210631 : Mysql compare different rows\n",
      "\n",
      "tensor(2159)  :  70379895 : How to search data from database by alias search term?\n",
      "\n",
      "tensor(2159)  :  70231389 : Postgres insert function by aggregating data from multiple tables\n",
      "\n",
      "tensor(2159)  :  70045476 : How to create table with all combinations of values\n",
      "\n",
      "tensor(2159)  :  70072340 : I'm getting same values on this query using CASE WHEN\n",
      "\n",
      "tensor(2159)  :  70156441 : Unexpected \"division by zero: 0 / 0\" error on BigQuery\n",
      "\n",
      "tensor(2159)  :  70332547 : What is the most powerful way to import data into a Neo4J database?\n",
      "\n",
      "tensor(2158)  :  70208612 : how to fix the SQL Error [1093] and Error [1064]?\n",
      "\n",
      "tensor(2158)  :  70140619 : How to left outer join and insert new data at the same time into a mysql table\n",
      "\n",
      "tensor(2158)  :  70276789 : Creating a function which returns a table where different columns come from different tables\n",
      "\n",
      "tensor(2158)  :  70358301 : Default users for MySQL 8 installation on Linux\n",
      "\n",
      "tensor(2158)  :  70187485 : Foreign key constraint : alternative for one to one relation with split tables\n",
      "\n",
      "tensor(2158)  :  70357373 : Select all dates after a certain date\n",
      "\n",
      "tensor(2158)  :  70244373 : PostgreSQL select IN with duplicate\n",
      "\n"
     ]
    }
   ],
   "source": [
    "text = 'postgresql'\n",
    "ranking, sorted = search_engine.search(text, model.encode([text], convert_to_tensor=True), title_Data, body_Data)\n",
    "print(\"\\n------------------------\")\n",
    "print(\"ranking index: \",ranking)\n",
    "print()\n",
    "for i in range(len(ranking)):\n",
    "    print(sorted[-i-1], \" : \", df.iloc[int(ranking[-i-1]), 1], \":\", df.iloc[int(ranking[-i-1]), 2])\n",
    "    print()"
   ]
  },
  {
   "cell_type": "code",
   "execution_count": 7,
   "metadata": {},
   "outputs": [
    {
     "name": "stdout",
     "output_type": "stream",
     "text": [
      "\n",
      "------------------------\n",
      "\n",
      "key: /detail/70233870\n",
      "val: custom field field in postgreSQL\n",
      "\n",
      "key: /detail/70244373\n",
      "val: PostgreSQL select IN with duplicate\n",
      "\n",
      "key: /detail/70342055\n",
      "val: How to share a postgreSQL database?\n",
      "\n",
      "key: /detail/70094882\n",
      "val: PostgreSQL array_agg returns null if first param is null\n",
      "\n",
      "key: /detail/70076332\n",
      "val: Is there a way to improve BigQuery's performance over PostgreSQL\n",
      "\n"
     ]
    }
   ],
   "source": [
    "from utils import ranking_postprocess\n",
    "ranking_dict = {\"/detail/\"+str(df['id'][int(ranking[-i-1])]):df['title'][int(ranking[-i-1])] for i in range(len(ranking))} # Not Determined Yet.\n",
    "re_ranking = ranking_postprocess(text, ranking_dict, params['ranking_size'])\n",
    "print(\"\\n------------------------\")\n",
    "print()\n",
    "for key, val in re_ranking.items():\n",
    "    print(\"key:\", key)\n",
    "    print(\"val:\", val)\n",
    "    print()"
   ]
  },
  {
   "cell_type": "code",
   "execution_count": 16,
   "metadata": {},
   "outputs": [
    {
     "name": "stdout",
     "output_type": "stream",
     "text": [
      "Kor2Eng: NEO4J execution error\n",
      "Eng2Eng: NEO4J execution error\n"
     ]
    }
   ],
   "source": [
    "import googletrans\n",
    "translator = googletrans.Translator()\n",
    "\n",
    "Kor_text = '''\n",
    "Neo4j 실행 오류\n",
    "'''\n",
    "\n",
    "translated_text = translator.translate(Kor_text, dest='en')\n",
    "print(\"Kor2Eng:\", translated_text.text)\n",
    "\n",
    "Eng_text = translated_text.text\n",
    "translated_text = translator.translate(Eng_text, dest='en')\n",
    "print(\"Eng2Eng:\", translated_text.text)"
   ]
  },
  {
   "cell_type": "code",
   "execution_count": 17,
   "metadata": {},
   "outputs": [
    {
     "name": "stdout",
     "output_type": "stream",
     "text": [
      "\n",
      "------------------------\n",
      "\n",
      "key: /detail/70217899\n",
      "val: Postgresql Create Type\n",
      "\n",
      "key: /detail/70207577\n",
      "val: PostgreSQL query for tvshows with multiple genres\n",
      "\n",
      "key: /detail/70094882\n",
      "val: PostgreSQL array_agg returns null if first param is null\n",
      "\n",
      "key: /detail/70186922\n",
      "val: How to combine a date and string in Postgresql\n",
      "\n",
      "key: /detail/70287201\n",
      "val: Automatically set SUM calculation's result as column value during / after row insert\n",
      "\n"
     ]
    }
   ],
   "source": [
    "ranking, sorted = search_engine.search(translated_text.text, model.encode([translated_text.text], convert_to_tensor=True), title_Data, body_Data)\n",
    "ranking_dict = {\"/detail/\"+str(df['id'][int(ranking[-i-1])]):df['title'][int(ranking[-i-1])] for i in range(len(ranking))} # Not Determined Yet.\n",
    "re_ranking = ranking_postprocess(text, ranking_dict, params['ranking_size'])\n",
    "print(\"\\n------------------------\")\n",
    "print()\n",
    "for key, val in re_ranking.items():\n",
    "    print(\"val:\", val)\n",
    "    print()"
   ]
  },
  {
   "cell_type": "code",
   "execution_count": 10,
   "metadata": {},
   "outputs": [
    {
     "name": "stdout",
     "output_type": "stream",
     "text": [
      "tensor([[0.1361, 0.3817, 0.7655, 0.5168],\n",
      "        [0.3004, 0.4099, 0.1195, 0.2574],\n",
      "        [0.4602, 0.8081, 0.1052, 0.3067]])\n",
      "tensor([1.0000, 0.5771, 0.9764])\n",
      "tensor([3.8730, 3.8730, 3.8730])\n"
     ]
    }
   ],
   "source": [
    "a = torch.rand(size = (3, 4))\n",
    "print(a)\n",
    "maxnorm = torch.max(torch.norm(a, dim = 1))\n",
    "\n",
    "print(torch.norm(a/maxnorm, dim = 1))\n",
    "\n",
    "b = a/maxnorm\n",
    "\n",
    "added = torch.Tensor([[0.5-torch.norm(v)**(2**i) for i in range(1, 60+1)] for v in b])\n",
    "        \n",
    "expanded = torch.concat([b, added], dim = 1)\n",
    "\n",
    "print(torch.norm(expanded, dim = 1))\n",
    "      "
   ]
  },
  {
   "cell_type": "code",
   "execution_count": null,
   "metadata": {},
   "outputs": [],
   "source": []
  }
 ],
 "metadata": {
  "kernelspec": {
   "display_name": "Python 3.8.16 ('flask')",
   "language": "python",
   "name": "python3"
  },
  "language_info": {
   "codemirror_mode": {
    "name": "ipython",
    "version": 3
   },
   "file_extension": ".py",
   "mimetype": "text/x-python",
   "name": "python",
   "nbconvert_exporter": "python",
   "pygments_lexer": "ipython3",
   "version": "3.8.16"
  },
  "orig_nbformat": 4,
  "vscode": {
   "interpreter": {
    "hash": "f63269090b3a3c689cb2b9efba4c98bfc7a83a37fef10f95977dfe8a0cfd02d1"
   }
  }
 },
 "nbformat": 4,
 "nbformat_minor": 2
}
